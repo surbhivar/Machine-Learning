{
 "cells": [
  {
   "cell_type": "markdown",
   "metadata": {},
   "source": [
    "# MACHINE LEARNING: USING NEURAL NETWORK"
   ]
  },
  {
   "cell_type": "code",
   "execution_count": 99,
   "metadata": {},
   "outputs": [],
   "source": [
    "import pandas as pd\n",
    "from matplotlib import pyplot as plt\n"
   ]
  },
  {
   "cell_type": "code",
   "execution_count": 100,
   "metadata": {},
   "outputs": [],
   "source": [
    "names=[\"Cultivator\",\"Alcohol\",\"Malic_Acid\",\"Ash\",\"Alcalinity_of_Ash\",\"Magnesium\",\"Total_phenols\",\"Falvanoids\",\"Nonfalvanoid_phenols\",\"Proanthocynains\",\"Color_intensity\",\"Hue\",\"OD280\",\"Proline\"]"
   ]
  },
  {
   "cell_type": "code",
   "execution_count": 101,
   "metadata": {},
   "outputs": [
    {
     "data": {
      "text/plain": [
       "['Cultivator',\n",
       " 'Alcohol',\n",
       " 'Malic_Acid',\n",
       " 'Ash',\n",
       " 'Alcalinity_of_Ash',\n",
       " 'Magnesium',\n",
       " 'Total_phenols',\n",
       " 'Falvanoids',\n",
       " 'Nonfalvanoid_phenols',\n",
       " 'Proanthocynains',\n",
       " 'Color_intensity',\n",
       " 'Hue',\n",
       " 'OD280',\n",
       " 'Proline']"
      ]
     },
     "execution_count": 101,
     "metadata": {},
     "output_type": "execute_result"
    }
   ],
   "source": [
    "names"
   ]
  },
  {
   "cell_type": "code",
   "execution_count": 102,
   "metadata": {},
   "outputs": [],
   "source": [
    "mydata=pd.read_excel(r\"C:\\Users\\Surbhi Varshney\\Desktop\\mywine.xlsx\",names=[\"Cultivator\",\"Alcohol\",\"Malic_Acid\",\"Ash\",\"Alcalinity_of_Ash\",\"Magnesium\",\"Total_phenols\",\"Falvanoids\",\"Nonfalvanoid_phenols\",\"Proanthocynains\",\"Color_intensity\",\"Hue\",\"OD280\",\"Proline\"])"
   ]
  },
  {
   "cell_type": "code",
   "execution_count": 103,
   "metadata": {},
   "outputs": [
    {
     "data": {
      "text/html": [
       "<div>\n",
       "<style scoped>\n",
       "    .dataframe tbody tr th:only-of-type {\n",
       "        vertical-align: middle;\n",
       "    }\n",
       "\n",
       "    .dataframe tbody tr th {\n",
       "        vertical-align: top;\n",
       "    }\n",
       "\n",
       "    .dataframe thead th {\n",
       "        text-align: right;\n",
       "    }\n",
       "</style>\n",
       "<table border=\"1\" class=\"dataframe\">\n",
       "  <thead>\n",
       "    <tr style=\"text-align: right;\">\n",
       "      <th></th>\n",
       "      <th>Cultivator</th>\n",
       "      <th>Alcohol</th>\n",
       "      <th>Malic_Acid</th>\n",
       "      <th>Ash</th>\n",
       "      <th>Alcalinity_of_Ash</th>\n",
       "      <th>Magnesium</th>\n",
       "      <th>Total_phenols</th>\n",
       "      <th>Falvanoids</th>\n",
       "      <th>Nonfalvanoid_phenols</th>\n",
       "      <th>Proanthocynains</th>\n",
       "      <th>Color_intensity</th>\n",
       "      <th>Hue</th>\n",
       "      <th>OD280</th>\n",
       "      <th>Proline</th>\n",
       "    </tr>\n",
       "  </thead>\n",
       "  <tbody>\n",
       "    <tr>\n",
       "      <th>0</th>\n",
       "      <td>1</td>\n",
       "      <td>13.20</td>\n",
       "      <td>1.78</td>\n",
       "      <td>2.14</td>\n",
       "      <td>11.2</td>\n",
       "      <td>100</td>\n",
       "      <td>2.65</td>\n",
       "      <td>2.76</td>\n",
       "      <td>0.26</td>\n",
       "      <td>1.28</td>\n",
       "      <td>4.38</td>\n",
       "      <td>1.05</td>\n",
       "      <td>3.40</td>\n",
       "      <td>1050</td>\n",
       "    </tr>\n",
       "    <tr>\n",
       "      <th>1</th>\n",
       "      <td>1</td>\n",
       "      <td>13.16</td>\n",
       "      <td>2.36</td>\n",
       "      <td>2.67</td>\n",
       "      <td>18.6</td>\n",
       "      <td>101</td>\n",
       "      <td>2.80</td>\n",
       "      <td>3.24</td>\n",
       "      <td>0.30</td>\n",
       "      <td>2.81</td>\n",
       "      <td>5.68</td>\n",
       "      <td>1.03</td>\n",
       "      <td>3.17</td>\n",
       "      <td>1185</td>\n",
       "    </tr>\n",
       "    <tr>\n",
       "      <th>2</th>\n",
       "      <td>1</td>\n",
       "      <td>14.37</td>\n",
       "      <td>1.95</td>\n",
       "      <td>2.50</td>\n",
       "      <td>16.8</td>\n",
       "      <td>113</td>\n",
       "      <td>3.85</td>\n",
       "      <td>3.49</td>\n",
       "      <td>0.24</td>\n",
       "      <td>2.18</td>\n",
       "      <td>7.80</td>\n",
       "      <td>0.86</td>\n",
       "      <td>3.45</td>\n",
       "      <td>1480</td>\n",
       "    </tr>\n",
       "    <tr>\n",
       "      <th>3</th>\n",
       "      <td>1</td>\n",
       "      <td>13.24</td>\n",
       "      <td>2.59</td>\n",
       "      <td>2.87</td>\n",
       "      <td>21.0</td>\n",
       "      <td>118</td>\n",
       "      <td>2.80</td>\n",
       "      <td>2.69</td>\n",
       "      <td>0.39</td>\n",
       "      <td>1.82</td>\n",
       "      <td>4.32</td>\n",
       "      <td>1.04</td>\n",
       "      <td>2.93</td>\n",
       "      <td>735</td>\n",
       "    </tr>\n",
       "    <tr>\n",
       "      <th>4</th>\n",
       "      <td>1</td>\n",
       "      <td>14.20</td>\n",
       "      <td>1.76</td>\n",
       "      <td>2.45</td>\n",
       "      <td>15.2</td>\n",
       "      <td>112</td>\n",
       "      <td>3.27</td>\n",
       "      <td>3.39</td>\n",
       "      <td>0.34</td>\n",
       "      <td>1.97</td>\n",
       "      <td>6.75</td>\n",
       "      <td>1.05</td>\n",
       "      <td>2.85</td>\n",
       "      <td>1450</td>\n",
       "    </tr>\n",
       "  </tbody>\n",
       "</table>\n",
       "</div>"
      ],
      "text/plain": [
       "   Cultivator  Alcohol  Malic_Acid   Ash  Alcalinity_of_Ash  Magnesium  \\\n",
       "0           1    13.20        1.78  2.14               11.2        100   \n",
       "1           1    13.16        2.36  2.67               18.6        101   \n",
       "2           1    14.37        1.95  2.50               16.8        113   \n",
       "3           1    13.24        2.59  2.87               21.0        118   \n",
       "4           1    14.20        1.76  2.45               15.2        112   \n",
       "\n",
       "   Total_phenols  Falvanoids  Nonfalvanoid_phenols  Proanthocynains  \\\n",
       "0           2.65        2.76                  0.26             1.28   \n",
       "1           2.80        3.24                  0.30             2.81   \n",
       "2           3.85        3.49                  0.24             2.18   \n",
       "3           2.80        2.69                  0.39             1.82   \n",
       "4           3.27        3.39                  0.34             1.97   \n",
       "\n",
       "   Color_intensity   Hue  OD280  Proline  \n",
       "0             4.38  1.05   3.40     1050  \n",
       "1             5.68  1.03   3.17     1185  \n",
       "2             7.80  0.86   3.45     1480  \n",
       "3             4.32  1.04   2.93      735  \n",
       "4             6.75  1.05   2.85     1450  "
      ]
     },
     "execution_count": 103,
     "metadata": {},
     "output_type": "execute_result"
    }
   ],
   "source": [
    "mydata.head()"
   ]
  },
  {
   "cell_type": "code",
   "execution_count": 104,
   "metadata": {},
   "outputs": [
    {
     "data": {
      "text/html": [
       "<div>\n",
       "<style scoped>\n",
       "    .dataframe tbody tr th:only-of-type {\n",
       "        vertical-align: middle;\n",
       "    }\n",
       "\n",
       "    .dataframe tbody tr th {\n",
       "        vertical-align: top;\n",
       "    }\n",
       "\n",
       "    .dataframe thead th {\n",
       "        text-align: right;\n",
       "    }\n",
       "</style>\n",
       "<table border=\"1\" class=\"dataframe\">\n",
       "  <thead>\n",
       "    <tr style=\"text-align: right;\">\n",
       "      <th></th>\n",
       "      <th>count</th>\n",
       "      <th>mean</th>\n",
       "      <th>std</th>\n",
       "      <th>min</th>\n",
       "      <th>25%</th>\n",
       "      <th>50%</th>\n",
       "      <th>75%</th>\n",
       "      <th>max</th>\n",
       "    </tr>\n",
       "  </thead>\n",
       "  <tbody>\n",
       "    <tr>\n",
       "      <th>Cultivator</th>\n",
       "      <td>177.0</td>\n",
       "      <td>1.943503</td>\n",
       "      <td>0.773991</td>\n",
       "      <td>1.00</td>\n",
       "      <td>1.00</td>\n",
       "      <td>2.00</td>\n",
       "      <td>3.00</td>\n",
       "      <td>3.00</td>\n",
       "    </tr>\n",
       "    <tr>\n",
       "      <th>Alcohol</th>\n",
       "      <td>177.0</td>\n",
       "      <td>12.993672</td>\n",
       "      <td>0.808808</td>\n",
       "      <td>11.03</td>\n",
       "      <td>12.36</td>\n",
       "      <td>13.05</td>\n",
       "      <td>13.67</td>\n",
       "      <td>14.83</td>\n",
       "    </tr>\n",
       "    <tr>\n",
       "      <th>Malic_Acid</th>\n",
       "      <td>177.0</td>\n",
       "      <td>2.339887</td>\n",
       "      <td>1.119314</td>\n",
       "      <td>0.74</td>\n",
       "      <td>1.60</td>\n",
       "      <td>1.87</td>\n",
       "      <td>3.10</td>\n",
       "      <td>5.80</td>\n",
       "    </tr>\n",
       "    <tr>\n",
       "      <th>Ash</th>\n",
       "      <td>177.0</td>\n",
       "      <td>2.366158</td>\n",
       "      <td>0.275080</td>\n",
       "      <td>1.36</td>\n",
       "      <td>2.21</td>\n",
       "      <td>2.36</td>\n",
       "      <td>2.56</td>\n",
       "      <td>3.23</td>\n",
       "    </tr>\n",
       "    <tr>\n",
       "      <th>Alcalinity_of_Ash</th>\n",
       "      <td>177.0</td>\n",
       "      <td>19.516949</td>\n",
       "      <td>3.336071</td>\n",
       "      <td>10.60</td>\n",
       "      <td>17.20</td>\n",
       "      <td>19.50</td>\n",
       "      <td>21.50</td>\n",
       "      <td>30.00</td>\n",
       "    </tr>\n",
       "    <tr>\n",
       "      <th>Magnesium</th>\n",
       "      <td>177.0</td>\n",
       "      <td>99.587571</td>\n",
       "      <td>14.174018</td>\n",
       "      <td>70.00</td>\n",
       "      <td>88.00</td>\n",
       "      <td>98.00</td>\n",
       "      <td>107.00</td>\n",
       "      <td>162.00</td>\n",
       "    </tr>\n",
       "    <tr>\n",
       "      <th>Total_phenols</th>\n",
       "      <td>177.0</td>\n",
       "      <td>2.292260</td>\n",
       "      <td>0.626465</td>\n",
       "      <td>0.98</td>\n",
       "      <td>1.74</td>\n",
       "      <td>2.35</td>\n",
       "      <td>2.80</td>\n",
       "      <td>3.88</td>\n",
       "    </tr>\n",
       "    <tr>\n",
       "      <th>Falvanoids</th>\n",
       "      <td>177.0</td>\n",
       "      <td>2.023446</td>\n",
       "      <td>0.998658</td>\n",
       "      <td>0.34</td>\n",
       "      <td>1.20</td>\n",
       "      <td>2.13</td>\n",
       "      <td>2.86</td>\n",
       "      <td>5.08</td>\n",
       "    </tr>\n",
       "    <tr>\n",
       "      <th>Nonfalvanoid_phenols</th>\n",
       "      <td>177.0</td>\n",
       "      <td>0.362316</td>\n",
       "      <td>0.124653</td>\n",
       "      <td>0.13</td>\n",
       "      <td>0.27</td>\n",
       "      <td>0.34</td>\n",
       "      <td>0.44</td>\n",
       "      <td>0.66</td>\n",
       "    </tr>\n",
       "    <tr>\n",
       "      <th>Proanthocynains</th>\n",
       "      <td>177.0</td>\n",
       "      <td>1.586949</td>\n",
       "      <td>0.571545</td>\n",
       "      <td>0.41</td>\n",
       "      <td>1.25</td>\n",
       "      <td>1.55</td>\n",
       "      <td>1.95</td>\n",
       "      <td>3.58</td>\n",
       "    </tr>\n",
       "    <tr>\n",
       "      <th>Color_intensity</th>\n",
       "      <td>177.0</td>\n",
       "      <td>5.054802</td>\n",
       "      <td>2.324446</td>\n",
       "      <td>1.28</td>\n",
       "      <td>3.21</td>\n",
       "      <td>4.68</td>\n",
       "      <td>6.20</td>\n",
       "      <td>13.00</td>\n",
       "    </tr>\n",
       "    <tr>\n",
       "      <th>Hue</th>\n",
       "      <td>177.0</td>\n",
       "      <td>0.956983</td>\n",
       "      <td>0.229135</td>\n",
       "      <td>0.48</td>\n",
       "      <td>0.78</td>\n",
       "      <td>0.96</td>\n",
       "      <td>1.12</td>\n",
       "      <td>1.71</td>\n",
       "    </tr>\n",
       "    <tr>\n",
       "      <th>OD280</th>\n",
       "      <td>177.0</td>\n",
       "      <td>2.604294</td>\n",
       "      <td>0.705103</td>\n",
       "      <td>1.27</td>\n",
       "      <td>1.93</td>\n",
       "      <td>2.78</td>\n",
       "      <td>3.17</td>\n",
       "      <td>4.00</td>\n",
       "    </tr>\n",
       "    <tr>\n",
       "      <th>Proline</th>\n",
       "      <td>177.0</td>\n",
       "      <td>745.096045</td>\n",
       "      <td>314.884046</td>\n",
       "      <td>278.00</td>\n",
       "      <td>500.00</td>\n",
       "      <td>672.00</td>\n",
       "      <td>985.00</td>\n",
       "      <td>1680.00</td>\n",
       "    </tr>\n",
       "  </tbody>\n",
       "</table>\n",
       "</div>"
      ],
      "text/plain": [
       "                      count        mean         std     min     25%     50%  \\\n",
       "Cultivator            177.0    1.943503    0.773991    1.00    1.00    2.00   \n",
       "Alcohol               177.0   12.993672    0.808808   11.03   12.36   13.05   \n",
       "Malic_Acid            177.0    2.339887    1.119314    0.74    1.60    1.87   \n",
       "Ash                   177.0    2.366158    0.275080    1.36    2.21    2.36   \n",
       "Alcalinity_of_Ash     177.0   19.516949    3.336071   10.60   17.20   19.50   \n",
       "Magnesium             177.0   99.587571   14.174018   70.00   88.00   98.00   \n",
       "Total_phenols         177.0    2.292260    0.626465    0.98    1.74    2.35   \n",
       "Falvanoids            177.0    2.023446    0.998658    0.34    1.20    2.13   \n",
       "Nonfalvanoid_phenols  177.0    0.362316    0.124653    0.13    0.27    0.34   \n",
       "Proanthocynains       177.0    1.586949    0.571545    0.41    1.25    1.55   \n",
       "Color_intensity       177.0    5.054802    2.324446    1.28    3.21    4.68   \n",
       "Hue                   177.0    0.956983    0.229135    0.48    0.78    0.96   \n",
       "OD280                 177.0    2.604294    0.705103    1.27    1.93    2.78   \n",
       "Proline               177.0  745.096045  314.884046  278.00  500.00  672.00   \n",
       "\n",
       "                         75%      max  \n",
       "Cultivator              3.00     3.00  \n",
       "Alcohol                13.67    14.83  \n",
       "Malic_Acid              3.10     5.80  \n",
       "Ash                     2.56     3.23  \n",
       "Alcalinity_of_Ash      21.50    30.00  \n",
       "Magnesium             107.00   162.00  \n",
       "Total_phenols           2.80     3.88  \n",
       "Falvanoids              2.86     5.08  \n",
       "Nonfalvanoid_phenols    0.44     0.66  \n",
       "Proanthocynains         1.95     3.58  \n",
       "Color_intensity         6.20    13.00  \n",
       "Hue                     1.12     1.71  \n",
       "OD280                   3.17     4.00  \n",
       "Proline               985.00  1680.00  "
      ]
     },
     "execution_count": 104,
     "metadata": {},
     "output_type": "execute_result"
    }
   ],
   "source": [
    "mydata.describe().T"
   ]
  },
  {
   "cell_type": "code",
   "execution_count": 105,
   "metadata": {},
   "outputs": [],
   "source": [
    "#to make mean 0 and var 1 we use standardization"
   ]
  },
  {
   "cell_type": "code",
   "execution_count": 106,
   "metadata": {},
   "outputs": [
    {
     "data": {
      "text/html": [
       "<div>\n",
       "<style scoped>\n",
       "    .dataframe tbody tr th:only-of-type {\n",
       "        vertical-align: middle;\n",
       "    }\n",
       "\n",
       "    .dataframe tbody tr th {\n",
       "        vertical-align: top;\n",
       "    }\n",
       "\n",
       "    .dataframe thead th {\n",
       "        text-align: right;\n",
       "    }\n",
       "</style>\n",
       "<table border=\"1\" class=\"dataframe\">\n",
       "  <thead>\n",
       "    <tr style=\"text-align: right;\">\n",
       "      <th></th>\n",
       "      <th>Cultivator</th>\n",
       "      <th>Alcohol</th>\n",
       "      <th>Malic_Acid</th>\n",
       "      <th>Ash</th>\n",
       "      <th>Alcalinity_of_Ash</th>\n",
       "      <th>Magnesium</th>\n",
       "      <th>Total_phenols</th>\n",
       "      <th>Falvanoids</th>\n",
       "      <th>Nonfalvanoid_phenols</th>\n",
       "      <th>Proanthocynains</th>\n",
       "      <th>Color_intensity</th>\n",
       "      <th>Hue</th>\n",
       "      <th>OD280</th>\n",
       "      <th>Proline</th>\n",
       "    </tr>\n",
       "  </thead>\n",
       "  <tbody>\n",
       "    <tr>\n",
       "      <th>Cultivator</th>\n",
       "      <td>1.000000</td>\n",
       "      <td>-0.321238</td>\n",
       "      <td>0.436127</td>\n",
       "      <td>-0.048260</td>\n",
       "      <td>0.513963</td>\n",
       "      <td>-0.198944</td>\n",
       "      <td>-0.717933</td>\n",
       "      <td>-0.846485</td>\n",
       "      <td>0.487215</td>\n",
       "      <td>-0.494887</td>\n",
       "      <td>0.268562</td>\n",
       "      <td>-0.617690</td>\n",
       "      <td>-0.786428</td>\n",
       "      <td>-0.631227</td>\n",
       "    </tr>\n",
       "    <tr>\n",
       "      <th>Alcohol</th>\n",
       "      <td>-0.321238</td>\n",
       "      <td>1.000000</td>\n",
       "      <td>0.099963</td>\n",
       "      <td>0.210964</td>\n",
       "      <td>-0.303350</td>\n",
       "      <td>0.258742</td>\n",
       "      <td>0.284543</td>\n",
       "      <td>0.230133</td>\n",
       "      <td>-0.151445</td>\n",
       "      <td>0.127561</td>\n",
       "      <td>0.547883</td>\n",
       "      <td>-0.075375</td>\n",
       "      <td>0.057417</td>\n",
       "      <td>0.641068</td>\n",
       "    </tr>\n",
       "    <tr>\n",
       "      <th>Malic_Acid</th>\n",
       "      <td>0.436127</td>\n",
       "      <td>0.099963</td>\n",
       "      <td>1.000000</td>\n",
       "      <td>0.164955</td>\n",
       "      <td>0.286148</td>\n",
       "      <td>-0.049049</td>\n",
       "      <td>-0.333512</td>\n",
       "      <td>-0.409324</td>\n",
       "      <td>0.291501</td>\n",
       "      <td>-0.217975</td>\n",
       "      <td>0.250053</td>\n",
       "      <td>-0.560854</td>\n",
       "      <td>-0.366720</td>\n",
       "      <td>-0.189512</td>\n",
       "    </tr>\n",
       "    <tr>\n",
       "      <th>Ash</th>\n",
       "      <td>-0.048260</td>\n",
       "      <td>0.210964</td>\n",
       "      <td>0.164955</td>\n",
       "      <td>1.000000</td>\n",
       "      <td>0.446698</td>\n",
       "      <td>0.287107</td>\n",
       "      <td>0.128176</td>\n",
       "      <td>0.114084</td>\n",
       "      <td>0.187354</td>\n",
       "      <td>0.008082</td>\n",
       "      <td>0.258643</td>\n",
       "      <td>-0.075181</td>\n",
       "      <td>0.001503</td>\n",
       "      <td>0.222979</td>\n",
       "    </tr>\n",
       "    <tr>\n",
       "      <th>Alcalinity_of_Ash</th>\n",
       "      <td>0.513963</td>\n",
       "      <td>-0.303350</td>\n",
       "      <td>0.286148</td>\n",
       "      <td>0.446698</td>\n",
       "      <td>1.000000</td>\n",
       "      <td>-0.071707</td>\n",
       "      <td>-0.317583</td>\n",
       "      <td>-0.346922</td>\n",
       "      <td>0.359395</td>\n",
       "      <td>-0.190779</td>\n",
       "      <td>0.020478</td>\n",
       "      <td>-0.272719</td>\n",
       "      <td>-0.268186</td>\n",
       "      <td>-0.436858</td>\n",
       "    </tr>\n",
       "    <tr>\n",
       "      <th>Magnesium</th>\n",
       "      <td>-0.198944</td>\n",
       "      <td>0.258742</td>\n",
       "      <td>-0.049049</td>\n",
       "      <td>0.287107</td>\n",
       "      <td>-0.071707</td>\n",
       "      <td>1.000000</td>\n",
       "      <td>0.208200</td>\n",
       "      <td>0.187101</td>\n",
       "      <td>-0.252091</td>\n",
       "      <td>0.226504</td>\n",
       "      <td>0.199337</td>\n",
       "      <td>0.052042</td>\n",
       "      <td>0.046961</td>\n",
       "      <td>0.387542</td>\n",
       "    </tr>\n",
       "    <tr>\n",
       "      <th>Total_phenols</th>\n",
       "      <td>-0.717933</td>\n",
       "      <td>0.284543</td>\n",
       "      <td>-0.333512</td>\n",
       "      <td>0.128176</td>\n",
       "      <td>-0.317583</td>\n",
       "      <td>0.208200</td>\n",
       "      <td>1.000000</td>\n",
       "      <td>0.864046</td>\n",
       "      <td>-0.448301</td>\n",
       "      <td>0.610533</td>\n",
       "      <td>-0.056401</td>\n",
       "      <td>0.432987</td>\n",
       "      <td>0.699566</td>\n",
       "      <td>0.495839</td>\n",
       "    </tr>\n",
       "    <tr>\n",
       "      <th>Falvanoids</th>\n",
       "      <td>-0.846485</td>\n",
       "      <td>0.230133</td>\n",
       "      <td>-0.409324</td>\n",
       "      <td>0.114084</td>\n",
       "      <td>-0.346922</td>\n",
       "      <td>0.187101</td>\n",
       "      <td>0.864046</td>\n",
       "      <td>1.000000</td>\n",
       "      <td>-0.536326</td>\n",
       "      <td>0.650254</td>\n",
       "      <td>-0.174411</td>\n",
       "      <td>0.543208</td>\n",
       "      <td>0.786372</td>\n",
       "      <td>0.491180</td>\n",
       "    </tr>\n",
       "    <tr>\n",
       "      <th>Nonfalvanoid_phenols</th>\n",
       "      <td>0.487215</td>\n",
       "      <td>-0.151445</td>\n",
       "      <td>0.291501</td>\n",
       "      <td>0.187354</td>\n",
       "      <td>0.359395</td>\n",
       "      <td>-0.252091</td>\n",
       "      <td>-0.448301</td>\n",
       "      <td>-0.536326</td>\n",
       "      <td>1.000000</td>\n",
       "      <td>-0.363268</td>\n",
       "      <td>0.140192</td>\n",
       "      <td>-0.261709</td>\n",
       "      <td>-0.501859</td>\n",
       "      <td>-0.308886</td>\n",
       "    </tr>\n",
       "    <tr>\n",
       "      <th>Proanthocynains</th>\n",
       "      <td>-0.494887</td>\n",
       "      <td>0.127561</td>\n",
       "      <td>-0.217975</td>\n",
       "      <td>0.008082</td>\n",
       "      <td>-0.190779</td>\n",
       "      <td>0.226504</td>\n",
       "      <td>0.610533</td>\n",
       "      <td>0.650254</td>\n",
       "      <td>-0.363268</td>\n",
       "      <td>1.000000</td>\n",
       "      <td>-0.027112</td>\n",
       "      <td>0.294397</td>\n",
       "      <td>0.513415</td>\n",
       "      <td>0.325731</td>\n",
       "    </tr>\n",
       "    <tr>\n",
       "      <th>Color_intensity</th>\n",
       "      <td>0.268562</td>\n",
       "      <td>0.547883</td>\n",
       "      <td>0.250053</td>\n",
       "      <td>0.258643</td>\n",
       "      <td>0.020478</td>\n",
       "      <td>0.199337</td>\n",
       "      <td>-0.056401</td>\n",
       "      <td>-0.174411</td>\n",
       "      <td>0.140192</td>\n",
       "      <td>-0.027112</td>\n",
       "      <td>1.000000</td>\n",
       "      <td>-0.522615</td>\n",
       "      <td>-0.435744</td>\n",
       "      <td>0.315632</td>\n",
       "    </tr>\n",
       "    <tr>\n",
       "      <th>Hue</th>\n",
       "      <td>-0.617690</td>\n",
       "      <td>-0.075375</td>\n",
       "      <td>-0.560854</td>\n",
       "      <td>-0.075181</td>\n",
       "      <td>-0.272719</td>\n",
       "      <td>0.052042</td>\n",
       "      <td>0.432987</td>\n",
       "      <td>0.543208</td>\n",
       "      <td>-0.261709</td>\n",
       "      <td>0.294397</td>\n",
       "      <td>-0.522615</td>\n",
       "      <td>1.000000</td>\n",
       "      <td>0.567395</td>\n",
       "      <td>0.234879</td>\n",
       "    </tr>\n",
       "    <tr>\n",
       "      <th>OD280</th>\n",
       "      <td>-0.786428</td>\n",
       "      <td>0.057417</td>\n",
       "      <td>-0.366720</td>\n",
       "      <td>0.001503</td>\n",
       "      <td>-0.268186</td>\n",
       "      <td>0.046961</td>\n",
       "      <td>0.699566</td>\n",
       "      <td>0.786372</td>\n",
       "      <td>-0.501859</td>\n",
       "      <td>0.513415</td>\n",
       "      <td>-0.435744</td>\n",
       "      <td>0.567395</td>\n",
       "      <td>1.000000</td>\n",
       "      <td>0.306031</td>\n",
       "    </tr>\n",
       "    <tr>\n",
       "      <th>Proline</th>\n",
       "      <td>-0.631227</td>\n",
       "      <td>0.641068</td>\n",
       "      <td>-0.189512</td>\n",
       "      <td>0.222979</td>\n",
       "      <td>-0.436858</td>\n",
       "      <td>0.387542</td>\n",
       "      <td>0.495839</td>\n",
       "      <td>0.491180</td>\n",
       "      <td>-0.308886</td>\n",
       "      <td>0.325731</td>\n",
       "      <td>0.315632</td>\n",
       "      <td>0.234879</td>\n",
       "      <td>0.306031</td>\n",
       "      <td>1.000000</td>\n",
       "    </tr>\n",
       "  </tbody>\n",
       "</table>\n",
       "</div>"
      ],
      "text/plain": [
       "                      Cultivator   Alcohol  Malic_Acid       Ash  \\\n",
       "Cultivator              1.000000 -0.321238    0.436127 -0.048260   \n",
       "Alcohol                -0.321238  1.000000    0.099963  0.210964   \n",
       "Malic_Acid              0.436127  0.099963    1.000000  0.164955   \n",
       "Ash                    -0.048260  0.210964    0.164955  1.000000   \n",
       "Alcalinity_of_Ash       0.513963 -0.303350    0.286148  0.446698   \n",
       "Magnesium              -0.198944  0.258742   -0.049049  0.287107   \n",
       "Total_phenols          -0.717933  0.284543   -0.333512  0.128176   \n",
       "Falvanoids             -0.846485  0.230133   -0.409324  0.114084   \n",
       "Nonfalvanoid_phenols    0.487215 -0.151445    0.291501  0.187354   \n",
       "Proanthocynains        -0.494887  0.127561   -0.217975  0.008082   \n",
       "Color_intensity         0.268562  0.547883    0.250053  0.258643   \n",
       "Hue                    -0.617690 -0.075375   -0.560854 -0.075181   \n",
       "OD280                  -0.786428  0.057417   -0.366720  0.001503   \n",
       "Proline                -0.631227  0.641068   -0.189512  0.222979   \n",
       "\n",
       "                      Alcalinity_of_Ash  Magnesium  Total_phenols  Falvanoids  \\\n",
       "Cultivator                     0.513963  -0.198944      -0.717933   -0.846485   \n",
       "Alcohol                       -0.303350   0.258742       0.284543    0.230133   \n",
       "Malic_Acid                     0.286148  -0.049049      -0.333512   -0.409324   \n",
       "Ash                            0.446698   0.287107       0.128176    0.114084   \n",
       "Alcalinity_of_Ash              1.000000  -0.071707      -0.317583   -0.346922   \n",
       "Magnesium                     -0.071707   1.000000       0.208200    0.187101   \n",
       "Total_phenols                 -0.317583   0.208200       1.000000    0.864046   \n",
       "Falvanoids                    -0.346922   0.187101       0.864046    1.000000   \n",
       "Nonfalvanoid_phenols           0.359395  -0.252091      -0.448301   -0.536326   \n",
       "Proanthocynains               -0.190779   0.226504       0.610533    0.650254   \n",
       "Color_intensity                0.020478   0.199337      -0.056401   -0.174411   \n",
       "Hue                           -0.272719   0.052042       0.432987    0.543208   \n",
       "OD280                         -0.268186   0.046961       0.699566    0.786372   \n",
       "Proline                       -0.436858   0.387542       0.495839    0.491180   \n",
       "\n",
       "                      Nonfalvanoid_phenols  Proanthocynains  Color_intensity  \\\n",
       "Cultivator                        0.487215        -0.494887         0.268562   \n",
       "Alcohol                          -0.151445         0.127561         0.547883   \n",
       "Malic_Acid                        0.291501        -0.217975         0.250053   \n",
       "Ash                               0.187354         0.008082         0.258643   \n",
       "Alcalinity_of_Ash                 0.359395        -0.190779         0.020478   \n",
       "Magnesium                        -0.252091         0.226504         0.199337   \n",
       "Total_phenols                    -0.448301         0.610533        -0.056401   \n",
       "Falvanoids                       -0.536326         0.650254        -0.174411   \n",
       "Nonfalvanoid_phenols              1.000000        -0.363268         0.140192   \n",
       "Proanthocynains                  -0.363268         1.000000        -0.027112   \n",
       "Color_intensity                   0.140192        -0.027112         1.000000   \n",
       "Hue                              -0.261709         0.294397        -0.522615   \n",
       "OD280                            -0.501859         0.513415        -0.435744   \n",
       "Proline                          -0.308886         0.325731         0.315632   \n",
       "\n",
       "                           Hue     OD280   Proline  \n",
       "Cultivator           -0.617690 -0.786428 -0.631227  \n",
       "Alcohol              -0.075375  0.057417  0.641068  \n",
       "Malic_Acid           -0.560854 -0.366720 -0.189512  \n",
       "Ash                  -0.075181  0.001503  0.222979  \n",
       "Alcalinity_of_Ash    -0.272719 -0.268186 -0.436858  \n",
       "Magnesium             0.052042  0.046961  0.387542  \n",
       "Total_phenols         0.432987  0.699566  0.495839  \n",
       "Falvanoids            0.543208  0.786372  0.491180  \n",
       "Nonfalvanoid_phenols -0.261709 -0.501859 -0.308886  \n",
       "Proanthocynains       0.294397  0.513415  0.325731  \n",
       "Color_intensity      -0.522615 -0.435744  0.315632  \n",
       "Hue                   1.000000  0.567395  0.234879  \n",
       "OD280                 0.567395  1.000000  0.306031  \n",
       "Proline               0.234879  0.306031  1.000000  "
      ]
     },
     "execution_count": 106,
     "metadata": {},
     "output_type": "execute_result"
    }
   ],
   "source": [
    "mydata.corr()"
   ]
  },
  {
   "cell_type": "code",
   "execution_count": 107,
   "metadata": {},
   "outputs": [
    {
     "data": {
      "image/png": "[encoded data removed]",
      "text/plain": [
       "<Figure size 432x288 with 16 Axes>"
      ]
     },
     "metadata": {
      "needs_background": "light"
     },
     "output_type": "display_data"
    }
   ],
   "source": [
    "mydata.hist(bins=50)\n",
    "plt.show()"
   ]
  },
  {
   "cell_type": "code",
   "execution_count": 108,
   "metadata": {},
   "outputs": [
    {
     "data": {
      "text/html": [
       "<div>\n",
       "<style scoped>\n",
       "    .dataframe tbody tr th:only-of-type {\n",
       "        vertical-align: middle;\n",
       "    }\n",
       "\n",
       "    .dataframe tbody tr th {\n",
       "        vertical-align: top;\n",
       "    }\n",
       "\n",
       "    .dataframe thead th {\n",
       "        text-align: right;\n",
       "    }\n",
       "</style>\n",
       "<table border=\"1\" class=\"dataframe\">\n",
       "  <thead>\n",
       "    <tr style=\"text-align: right;\">\n",
       "      <th></th>\n",
       "      <th>Cultivator</th>\n",
       "      <th>Alcohol</th>\n",
       "      <th>Malic_Acid</th>\n",
       "      <th>Ash</th>\n",
       "      <th>Alcalinity_of_Ash</th>\n",
       "      <th>Magnesium</th>\n",
       "      <th>Total_phenols</th>\n",
       "      <th>Falvanoids</th>\n",
       "      <th>Nonfalvanoid_phenols</th>\n",
       "      <th>Proanthocynains</th>\n",
       "      <th>Color_intensity</th>\n",
       "      <th>Hue</th>\n",
       "      <th>OD280</th>\n",
       "      <th>Proline</th>\n",
       "    </tr>\n",
       "  </thead>\n",
       "  <tbody>\n",
       "    <tr>\n",
       "      <th>0</th>\n",
       "      <td>1</td>\n",
       "      <td>13.20</td>\n",
       "      <td>1.78</td>\n",
       "      <td>2.14</td>\n",
       "      <td>11.2</td>\n",
       "      <td>100</td>\n",
       "      <td>2.65</td>\n",
       "      <td>2.76</td>\n",
       "      <td>0.26</td>\n",
       "      <td>1.28</td>\n",
       "      <td>4.38</td>\n",
       "      <td>1.05</td>\n",
       "      <td>3.40</td>\n",
       "      <td>1050</td>\n",
       "    </tr>\n",
       "    <tr>\n",
       "      <th>1</th>\n",
       "      <td>1</td>\n",
       "      <td>13.16</td>\n",
       "      <td>2.36</td>\n",
       "      <td>2.67</td>\n",
       "      <td>18.6</td>\n",
       "      <td>101</td>\n",
       "      <td>2.80</td>\n",
       "      <td>3.24</td>\n",
       "      <td>0.30</td>\n",
       "      <td>2.81</td>\n",
       "      <td>5.68</td>\n",
       "      <td>1.03</td>\n",
       "      <td>3.17</td>\n",
       "      <td>1185</td>\n",
       "    </tr>\n",
       "    <tr>\n",
       "      <th>2</th>\n",
       "      <td>1</td>\n",
       "      <td>14.37</td>\n",
       "      <td>1.95</td>\n",
       "      <td>2.50</td>\n",
       "      <td>16.8</td>\n",
       "      <td>113</td>\n",
       "      <td>3.85</td>\n",
       "      <td>3.49</td>\n",
       "      <td>0.24</td>\n",
       "      <td>2.18</td>\n",
       "      <td>7.80</td>\n",
       "      <td>0.86</td>\n",
       "      <td>3.45</td>\n",
       "      <td>1480</td>\n",
       "    </tr>\n",
       "    <tr>\n",
       "      <th>3</th>\n",
       "      <td>1</td>\n",
       "      <td>13.24</td>\n",
       "      <td>2.59</td>\n",
       "      <td>2.87</td>\n",
       "      <td>21.0</td>\n",
       "      <td>118</td>\n",
       "      <td>2.80</td>\n",
       "      <td>2.69</td>\n",
       "      <td>0.39</td>\n",
       "      <td>1.82</td>\n",
       "      <td>4.32</td>\n",
       "      <td>1.04</td>\n",
       "      <td>2.93</td>\n",
       "      <td>735</td>\n",
       "    </tr>\n",
       "    <tr>\n",
       "      <th>4</th>\n",
       "      <td>1</td>\n",
       "      <td>14.20</td>\n",
       "      <td>1.76</td>\n",
       "      <td>2.45</td>\n",
       "      <td>15.2</td>\n",
       "      <td>112</td>\n",
       "      <td>3.27</td>\n",
       "      <td>3.39</td>\n",
       "      <td>0.34</td>\n",
       "      <td>1.97</td>\n",
       "      <td>6.75</td>\n",
       "      <td>1.05</td>\n",
       "      <td>2.85</td>\n",
       "      <td>1450</td>\n",
       "    </tr>\n",
       "  </tbody>\n",
       "</table>\n",
       "</div>"
      ],
      "text/plain": [
       "   Cultivator  Alcohol  Malic_Acid   Ash  Alcalinity_of_Ash  Magnesium  \\\n",
       "0           1    13.20        1.78  2.14               11.2        100   \n",
       "1           1    13.16        2.36  2.67               18.6        101   \n",
       "2           1    14.37        1.95  2.50               16.8        113   \n",
       "3           1    13.24        2.59  2.87               21.0        118   \n",
       "4           1    14.20        1.76  2.45               15.2        112   \n",
       "\n",
       "   Total_phenols  Falvanoids  Nonfalvanoid_phenols  Proanthocynains  \\\n",
       "0           2.65        2.76                  0.26             1.28   \n",
       "1           2.80        3.24                  0.30             2.81   \n",
       "2           3.85        3.49                  0.24             2.18   \n",
       "3           2.80        2.69                  0.39             1.82   \n",
       "4           3.27        3.39                  0.34             1.97   \n",
       "\n",
       "   Color_intensity   Hue  OD280  Proline  \n",
       "0             4.38  1.05   3.40     1050  \n",
       "1             5.68  1.03   3.17     1185  \n",
       "2             7.80  0.86   3.45     1480  \n",
       "3             4.32  1.04   2.93      735  \n",
       "4             6.75  1.05   2.85     1450  "
      ]
     },
     "execution_count": 108,
     "metadata": {},
     "output_type": "execute_result"
    }
   ],
   "source": [
    "mydata.head()"
   ]
  },
  {
   "cell_type": "code",
   "execution_count": 109,
   "metadata": {},
   "outputs": [],
   "source": [
    "#Separate input from output"
   ]
  },
  {
   "cell_type": "code",
   "execution_count": 110,
   "metadata": {},
   "outputs": [],
   "source": [
    "X_input=mydata.drop(\"Cultivator\",axis=1)\n",
    "Y_output=mydata[\"Cultivator\"]\n"
   ]
  },
  {
   "cell_type": "code",
   "execution_count": 111,
   "metadata": {},
   "outputs": [
    {
     "data": {
      "text/html": [
       "<div>\n",
       "<style scoped>\n",
       "    .dataframe tbody tr th:only-of-type {\n",
       "        vertical-align: middle;\n",
       "    }\n",
       "\n",
       "    .dataframe tbody tr th {\n",
       "        vertical-align: top;\n",
       "    }\n",
       "\n",
       "    .dataframe thead th {\n",
       "        text-align: right;\n",
       "    }\n",
       "</style>\n",
       "<table border=\"1\" class=\"dataframe\">\n",
       "  <thead>\n",
       "    <tr style=\"text-align: right;\">\n",
       "      <th></th>\n",
       "      <th>Alcohol</th>\n",
       "      <th>Malic_Acid</th>\n",
       "      <th>Ash</th>\n",
       "      <th>Alcalinity_of_Ash</th>\n",
       "      <th>Magnesium</th>\n",
       "      <th>Total_phenols</th>\n",
       "      <th>Falvanoids</th>\n",
       "      <th>Nonfalvanoid_phenols</th>\n",
       "      <th>Proanthocynains</th>\n",
       "      <th>Color_intensity</th>\n",
       "      <th>Hue</th>\n",
       "      <th>OD280</th>\n",
       "      <th>Proline</th>\n",
       "    </tr>\n",
       "  </thead>\n",
       "  <tbody>\n",
       "    <tr>\n",
       "      <th>0</th>\n",
       "      <td>13.20</td>\n",
       "      <td>1.78</td>\n",
       "      <td>2.14</td>\n",
       "      <td>11.2</td>\n",
       "      <td>100</td>\n",
       "      <td>2.65</td>\n",
       "      <td>2.76</td>\n",
       "      <td>0.26</td>\n",
       "      <td>1.28</td>\n",
       "      <td>4.38</td>\n",
       "      <td>1.05</td>\n",
       "      <td>3.40</td>\n",
       "      <td>1050</td>\n",
       "    </tr>\n",
       "    <tr>\n",
       "      <th>1</th>\n",
       "      <td>13.16</td>\n",
       "      <td>2.36</td>\n",
       "      <td>2.67</td>\n",
       "      <td>18.6</td>\n",
       "      <td>101</td>\n",
       "      <td>2.80</td>\n",
       "      <td>3.24</td>\n",
       "      <td>0.30</td>\n",
       "      <td>2.81</td>\n",
       "      <td>5.68</td>\n",
       "      <td>1.03</td>\n",
       "      <td>3.17</td>\n",
       "      <td>1185</td>\n",
       "    </tr>\n",
       "    <tr>\n",
       "      <th>2</th>\n",
       "      <td>14.37</td>\n",
       "      <td>1.95</td>\n",
       "      <td>2.50</td>\n",
       "      <td>16.8</td>\n",
       "      <td>113</td>\n",
       "      <td>3.85</td>\n",
       "      <td>3.49</td>\n",
       "      <td>0.24</td>\n",
       "      <td>2.18</td>\n",
       "      <td>7.80</td>\n",
       "      <td>0.86</td>\n",
       "      <td>3.45</td>\n",
       "      <td>1480</td>\n",
       "    </tr>\n",
       "    <tr>\n",
       "      <th>3</th>\n",
       "      <td>13.24</td>\n",
       "      <td>2.59</td>\n",
       "      <td>2.87</td>\n",
       "      <td>21.0</td>\n",
       "      <td>118</td>\n",
       "      <td>2.80</td>\n",
       "      <td>2.69</td>\n",
       "      <td>0.39</td>\n",
       "      <td>1.82</td>\n",
       "      <td>4.32</td>\n",
       "      <td>1.04</td>\n",
       "      <td>2.93</td>\n",
       "      <td>735</td>\n",
       "    </tr>\n",
       "    <tr>\n",
       "      <th>4</th>\n",
       "      <td>14.20</td>\n",
       "      <td>1.76</td>\n",
       "      <td>2.45</td>\n",
       "      <td>15.2</td>\n",
       "      <td>112</td>\n",
       "      <td>3.27</td>\n",
       "      <td>3.39</td>\n",
       "      <td>0.34</td>\n",
       "      <td>1.97</td>\n",
       "      <td>6.75</td>\n",
       "      <td>1.05</td>\n",
       "      <td>2.85</td>\n",
       "      <td>1450</td>\n",
       "    </tr>\n",
       "  </tbody>\n",
       "</table>\n",
       "</div>"
      ],
      "text/plain": [
       "   Alcohol  Malic_Acid   Ash  Alcalinity_of_Ash  Magnesium  Total_phenols  \\\n",
       "0    13.20        1.78  2.14               11.2        100           2.65   \n",
       "1    13.16        2.36  2.67               18.6        101           2.80   \n",
       "2    14.37        1.95  2.50               16.8        113           3.85   \n",
       "3    13.24        2.59  2.87               21.0        118           2.80   \n",
       "4    14.20        1.76  2.45               15.2        112           3.27   \n",
       "\n",
       "   Falvanoids  Nonfalvanoid_phenols  Proanthocynains  Color_intensity   Hue  \\\n",
       "0        2.76                  0.26             1.28             4.38  1.05   \n",
       "1        3.24                  0.30             2.81             5.68  1.03   \n",
       "2        3.49                  0.24             2.18             7.80  0.86   \n",
       "3        2.69                  0.39             1.82             4.32  1.04   \n",
       "4        3.39                  0.34             1.97             6.75  1.05   \n",
       "\n",
       "   OD280  Proline  \n",
       "0   3.40     1050  \n",
       "1   3.17     1185  \n",
       "2   3.45     1480  \n",
       "3   2.93      735  \n",
       "4   2.85     1450  "
      ]
     },
     "execution_count": 111,
     "metadata": {},
     "output_type": "execute_result"
    }
   ],
   "source": [
    "X_input.head()"
   ]
  },
  {
   "cell_type": "code",
   "execution_count": 112,
   "metadata": {},
   "outputs": [
    {
     "name": "stdout",
     "output_type": "stream",
     "text": [
      "type of X_input <class 'pandas.core.frame.DataFrame'> and type of Y_output <class 'pandas.core.series.Series'> \n"
     ]
    }
   ],
   "source": [
    "print(\"type of X_input {} and type of Y_output {} \".format(type(X_input),type(Y_output)))"
   ]
  },
  {
   "cell_type": "code",
   "execution_count": 113,
   "metadata": {},
   "outputs": [],
   "source": [
    "#Splitting data in training and testing"
   ]
  },
  {
   "cell_type": "code",
   "execution_count": 114,
   "metadata": {},
   "outputs": [],
   "source": [
    "from sklearn.model_selection import train_test_split\n"
   ]
  },
  {
   "cell_type": "code",
   "execution_count": 115,
   "metadata": {},
   "outputs": [],
   "source": [
    "X_train,X_test,Y_train,Y_test=train_test_split(X_input,Y_output,test_size=.30,random_state=101)"
   ]
  },
  {
   "cell_type": "code",
   "execution_count": 116,
   "metadata": {},
   "outputs": [
    {
     "name": "stdout",
     "output_type": "stream",
     "text": [
      "shape of X_train is 123 and X_test is 54 \n"
     ]
    }
   ],
   "source": [
    "print(\"shape of X_train is {} and X_test is {} \".format(len(X_train),len(X_test)))"
   ]
  },
  {
   "cell_type": "code",
   "execution_count": 117,
   "metadata": {},
   "outputs": [
    {
     "name": "stdout",
     "output_type": "stream",
     "text": [
      "shape of Y_train is 123 and Y_test is 54 \n"
     ]
    }
   ],
   "source": [
    "print(\"shape of Y_train is {} and Y_test is {} \".format(len(Y_train),len(Y_test)))"
   ]
  },
  {
   "cell_type": "code",
   "execution_count": 118,
   "metadata": {},
   "outputs": [],
   "source": [
    "from sklearn.preprocessing import StandardScaler"
   ]
  },
  {
   "cell_type": "code",
   "execution_count": 119,
   "metadata": {},
   "outputs": [],
   "source": [
    "myscaler=StandardScaler(\n",
    ")"
   ]
  },
  {
   "cell_type": "code",
   "execution_count": 120,
   "metadata": {},
   "outputs": [
    {
     "name": "stderr",
     "output_type": "stream",
     "text": [
      "C:\\Users\\Surbhi Varshney\\Anaconda3\\lib\\site-packages\\sklearn\\preprocessing\\data.py:645: DataConversionWarning: Data with input dtype int64, float64 were all converted to float64 by StandardScaler.\n",
      "  return self.partial_fit(X, y)\n"
     ]
    },
    {
     "data": {
      "text/plain": [
       "StandardScaler(copy=True, with_mean=True, with_std=True)"
      ]
     },
     "execution_count": 120,
     "metadata": {},
     "output_type": "execute_result"
    }
   ],
   "source": [
    "myscaler.fit(X_train)"
   ]
  },
  {
   "cell_type": "code",
   "execution_count": 121,
   "metadata": {},
   "outputs": [
    {
     "data": {
      "text/plain": [
       "pandas.core.frame.DataFrame"
      ]
     },
     "execution_count": 121,
     "metadata": {},
     "output_type": "execute_result"
    }
   ],
   "source": [
    "type(X_train)"
   ]
  },
  {
   "cell_type": "code",
   "execution_count": 122,
   "metadata": {},
   "outputs": [
    {
     "name": "stderr",
     "output_type": "stream",
     "text": [
      "C:\\Users\\Surbhi Varshney\\Anaconda3\\lib\\site-packages\\ipykernel_launcher.py:1: DataConversionWarning: Data with input dtype int64, float64 were all converted to float64 by StandardScaler.\n",
      "  \"\"\"Entry point for launching an IPython kernel.\n"
     ]
    },
    {
     "data": {
      "text/plain": [
       "numpy.ndarray"
      ]
     },
     "execution_count": 122,
     "metadata": {},
     "output_type": "execute_result"
    }
   ],
   "source": [
    "X_train=myscaler.transform(X_train)\n",
    "type(X_train)"
   ]
  },
  {
   "cell_type": "code",
   "execution_count": 123,
   "metadata": {},
   "outputs": [
    {
     "name": "stderr",
     "output_type": "stream",
     "text": [
      "C:\\Users\\Surbhi Varshney\\Anaconda3\\lib\\site-packages\\sklearn\\preprocessing\\data.py:645: DataConversionWarning: Data with input dtype int64, float64 were all converted to float64 by StandardScaler.\n",
      "  return self.partial_fit(X, y)\n",
      "C:\\Users\\Surbhi Varshney\\Anaconda3\\lib\\site-packages\\ipykernel_launcher.py:2: DataConversionWarning: Data with input dtype int64, float64 were all converted to float64 by StandardScaler.\n",
      "  \n"
     ]
    },
    {
     "data": {
      "text/plain": [
       "numpy.ndarray"
      ]
     },
     "execution_count": 123,
     "metadata": {},
     "output_type": "execute_result"
    }
   ],
   "source": [
    "myscaler.fit(X_test)\n",
    "X_test=myscaler.transform(X_test)\n",
    "type(X_test)"
   ]
  },
  {
   "cell_type": "code",
   "execution_count": 124,
   "metadata": {},
   "outputs": [
    {
     "name": "stdout",
     "output_type": "stream",
     "text": [
      " mean 0.0 and std is 1.0 \n"
     ]
    }
   ],
   "source": [
    "m=abs(round(X_train.mean()))\n",
    "s=X_train.std()\n",
    "print(\" mean {} and std is {} \".format(m,s))"
   ]
  },
  {
   "cell_type": "code",
   "execution_count": 125,
   "metadata": {},
   "outputs": [],
   "source": [
    "#1st nodes wil have al the features, here 13\n",
    "#No. of layers=no of targets (recommendation) eg here 3 targets"
   ]
  },
  {
   "cell_type": "code",
   "execution_count": 126,
   "metadata": {},
   "outputs": [],
   "source": [
    "#total number of class\n",
    "import numpy as np"
   ]
  },
  {
   "cell_type": "code",
   "execution_count": 127,
   "metadata": {},
   "outputs": [
    {
     "data": {
      "text/plain": [
       "array([1, 2, 3], dtype=int64)"
      ]
     },
     "execution_count": 127,
     "metadata": {},
     "output_type": "execute_result"
    }
   ],
   "source": [
    "np.unique(Y_output)"
   ]
  },
  {
   "cell_type": "code",
   "execution_count": 142,
   "metadata": {},
   "outputs": [],
   "source": [
    "from sklearn.neural_network import MLPClassifier"
   ]
  },
  {
   "cell_type": "code",
   "execution_count": 183,
   "metadata": {},
   "outputs": [],
   "source": [
    "Trainer=MLPClassifier(hidden_layer_sizes=(13,13,13),activation='relu',max_iter=250)"
   ]
  },
  {
   "cell_type": "code",
   "execution_count": 184,
   "metadata": {},
   "outputs": [
    {
     "data": {
      "text/plain": [
       "MLPClassifier(activation='relu', alpha=0.0001, batch_size='auto', beta_1=0.9,\n",
       "       beta_2=0.999, early_stopping=False, epsilon=1e-08,\n",
       "       hidden_layer_sizes=(13, 13, 13), learning_rate='constant',\n",
       "       learning_rate_init=0.001, max_iter=250, momentum=0.9,\n",
       "       n_iter_no_change=10, nesterovs_momentum=True, power_t=0.5,\n",
       "       random_state=None, shuffle=True, solver='adam', tol=0.0001,\n",
       "       validation_fraction=0.1, verbose=False, warm_start=False)"
      ]
     },
     "execution_count": 184,
     "metadata": {},
     "output_type": "execute_result"
    }
   ],
   "source": [
    "Trainer"
   ]
  },
  {
   "cell_type": "code",
   "execution_count": 185,
   "metadata": {},
   "outputs": [
    {
     "name": "stderr",
     "output_type": "stream",
     "text": [
      "C:\\Users\\Surbhi Varshney\\Anaconda3\\lib\\site-packages\\sklearn\\neural_network\\multilayer_perceptron.py:562: ConvergenceWarning: Stochastic Optimizer: Maximum iterations (250) reached and the optimization hasn't converged yet.\n",
      "  % self.max_iter, ConvergenceWarning)\n"
     ]
    }
   ],
   "source": [
    "learner=Trainer.fit(X_train,Y_train)\n"
   ]
  },
  {
   "cell_type": "code",
   "execution_count": 186,
   "metadata": {},
   "outputs": [],
   "source": [
    "#Testing\n",
    "Yp=learner.predict(X_test)\n",
    "YA=Y_test"
   ]
  },
  {
   "cell_type": "code",
   "execution_count": 187,
   "metadata": {},
   "outputs": [],
   "source": [
    "Yplist=list(Yp)\n",
    "Yalist=list(YA)\n"
   ]
  },
  {
   "cell_type": "code",
   "execution_count": 188,
   "metadata": {},
   "outputs": [],
   "source": [
    "table=pd.DataFrame({\"Ya\":Yalist,\"Yp\":Yplist})"
   ]
  },
  {
   "cell_type": "code",
   "execution_count": 189,
   "metadata": {},
   "outputs": [
    {
     "data": {
      "text/html": [
       "<div>\n",
       "<style scoped>\n",
       "    .dataframe tbody tr th:only-of-type {\n",
       "        vertical-align: middle;\n",
       "    }\n",
       "\n",
       "    .dataframe tbody tr th {\n",
       "        vertical-align: top;\n",
       "    }\n",
       "\n",
       "    .dataframe thead th {\n",
       "        text-align: right;\n",
       "    }\n",
       "</style>\n",
       "<table border=\"1\" class=\"dataframe\">\n",
       "  <thead>\n",
       "    <tr style=\"text-align: right;\">\n",
       "      <th></th>\n",
       "      <th>Ya</th>\n",
       "      <th>Yp</th>\n",
       "    </tr>\n",
       "  </thead>\n",
       "  <tbody>\n",
       "    <tr>\n",
       "      <th>0</th>\n",
       "      <td>1</td>\n",
       "      <td>1</td>\n",
       "    </tr>\n",
       "  </tbody>\n",
       "</table>\n",
       "</div>"
      ],
      "text/plain": [
       "   Ya  Yp\n",
       "0   1   1"
      ]
     },
     "execution_count": 189,
     "metadata": {},
     "output_type": "execute_result"
    }
   ],
   "source": [
    "table[:1]"
   ]
  },
  {
   "cell_type": "code",
   "execution_count": 190,
   "metadata": {},
   "outputs": [],
   "source": [
    "from sklearn.metrics import accuracy_score,jaccard_similarity_score,confusion_matrix,classification_report\n"
   ]
  },
  {
   "cell_type": "code",
   "execution_count": 191,
   "metadata": {},
   "outputs": [],
   "source": [
    "jss=jaccard_similarity_score(YA,Yp)\n",
    "accs=accuracy_score(YA,Yp)"
   ]
  },
  {
   "cell_type": "code",
   "execution_count": 192,
   "metadata": {},
   "outputs": [
    {
     "name": "stdout",
     "output_type": "stream",
     "text": [
      "jss is 0.9629629629629629 and accs is 0.9629629629629629 \n"
     ]
    }
   ],
   "source": [
    "print(\"jss is {} and accs is {} \".format(jss,accs))\n"
   ]
  },
  {
   "cell_type": "code",
   "execution_count": 193,
   "metadata": {},
   "outputs": [
    {
     "name": "stdout",
     "output_type": "stream",
     "text": [
      "[[19  0  0]\n",
      " [ 0 20  1]\n",
      " [ 0  1 13]]\n"
     ]
    }
   ],
   "source": [
    "cm=confusion_matrix(YA,Yp)\n",
    "print(cm)"
   ]
  },
  {
   "cell_type": "code",
   "execution_count": 194,
   "metadata": {},
   "outputs": [
    {
     "name": "stdout",
     "output_type": "stream",
     "text": [
      "              precision    recall  f1-score   support\n",
      "\n",
      "           1       1.00      1.00      1.00        19\n",
      "           2       0.95      0.95      0.95        21\n",
      "           3       0.93      0.93      0.93        14\n",
      "\n",
      "   micro avg       0.96      0.96      0.96        54\n",
      "   macro avg       0.96      0.96      0.96        54\n",
      "weighted avg       0.96      0.96      0.96        54\n",
      "\n"
     ]
    }
   ],
   "source": [
    "myclassreport=classification_report(YA,Yp)\n",
    "print(myclassreport)"
   ]
  },
  {
   "cell_type": "code",
   "execution_count": 196,
   "metadata": {},
   "outputs": [
    {
     "data": {
      "text/plain": [
       "[array([ 0.15867331, -0.21470883, -0.21968705, -0.09078343, -0.30278457,\n",
       "         0.10058713,  0.36645886, -0.02301819,  0.26450172, -0.35270503,\n",
       "         0.48974525,  0.15864205, -0.22042822]),\n",
       " array([-0.16287653,  0.21790425,  0.28456377, -0.16028677,  0.11908684,\n",
       "         0.31027641, -0.09112027,  0.21720374,  0.23867529,  0.20937738,\n",
       "         0.33582324,  0.2550912 , -0.23119689]),\n",
       " array([ 0.2456389 ,  0.40154679, -0.32302732, -0.20493348,  0.26700144,\n",
       "        -0.0633291 ,  0.06327864, -0.2896021 ,  0.11151624,  0.58073584,\n",
       "        -0.13838559,  0.39715955,  0.25602722]),\n",
       " array([0.34709797, 0.46537144, 0.70495374])]"
      ]
     },
     "execution_count": 196,
     "metadata": {},
     "output_type": "execute_result"
    }
   ],
   "source": [
    "learner.intercepts_\n"
   ]
  },
  {
   "cell_type": "code",
   "execution_count": 197,
   "metadata": {},
   "outputs": [
    {
     "data": {
      "text/plain": [
       "4"
      ]
     },
     "execution_count": 197,
     "metadata": {},
     "output_type": "execute_result"
    }
   ],
   "source": [
    "len(learner.intercepts_)"
   ]
  },
  {
   "cell_type": "code",
   "execution_count": 198,
   "metadata": {},
   "outputs": [],
   "source": [
    "l1=learner.intercepts_[0]"
   ]
  },
  {
   "cell_type": "code",
   "execution_count": 199,
   "metadata": {},
   "outputs": [
    {
     "data": {
      "text/plain": [
       "13"
      ]
     },
     "execution_count": 199,
     "metadata": {},
     "output_type": "execute_result"
    }
   ],
   "source": [
    "len(l1)"
   ]
  },
  {
   "cell_type": "code",
   "execution_count": 228,
   "metadata": {},
   "outputs": [],
   "source": [
    "lb=learner.coefs_[0\n",
    "                 ]"
   ]
  },
  {
   "cell_type": "code",
   "execution_count": 229,
   "metadata": {},
   "outputs": [
    {
     "data": {
      "text/plain": [
       "array([[ 0.18074176, -0.21988647, -0.30149979, -0.31559759, -0.16626975,\n",
       "        -0.18647294,  0.40973243, -0.38910233, -0.12418811, -0.57864041,\n",
       "         0.66849045, -0.28392403, -0.19269189],\n",
       "       [ 0.24661542, -0.14939251,  0.29734973,  0.01008377,  0.04426354,\n",
       "         0.29893041, -0.02223233, -0.01308223, -0.07440897, -0.5692137 ,\n",
       "         0.31399297, -0.60586066, -0.46785191],\n",
       "       [-0.36154734, -0.19066615,  0.16896301, -0.14594395,  0.39457058,\n",
       "        -0.29847628, -0.05176011, -0.36506307, -0.06564676,  0.58150775,\n",
       "         0.34029235, -0.17207517, -0.34859756],\n",
       "       [ 0.40129628,  0.30140495, -0.01859318,  0.32104805, -0.25916947,\n",
       "         0.09269103, -0.52752314, -0.24815033,  0.25911726, -0.15853193,\n",
       "         0.14663261, -0.54072941,  0.29907157],\n",
       "       [ 0.49369656,  0.51693696, -0.12080591, -0.27999192, -0.18190032,\n",
       "        -0.28083198,  0.55225079,  0.17083765, -0.18723315, -0.49870651,\n",
       "         0.06954246, -0.41649997,  0.07332482],\n",
       "       [ 0.40397404, -0.26588047, -0.44211342, -0.40521379, -0.41410552,\n",
       "        -0.4972704 ,  0.35060659,  0.16078823,  0.12511141, -0.16927093,\n",
       "        -0.387102  ,  0.0435827 , -0.39542724],\n",
       "       [-0.34986569,  0.01385455,  0.256812  ,  0.53680728, -0.44836838,\n",
       "        -0.33456504,  0.00907674,  0.19024534,  0.33372586,  0.2941281 ,\n",
       "         0.3191321 ,  0.02462306,  0.3524277 ],\n",
       "       [ 0.37054702, -0.40662962,  0.02192868,  0.24701593,  0.58317999,\n",
       "         0.22185786, -0.30917678,  0.03689352,  0.2052054 ,  0.13510215,\n",
       "         0.30149523, -0.32609886, -0.44618574],\n",
       "       [ 0.27689048, -0.31823075, -0.2037524 , -0.04600809,  0.15133521,\n",
       "         0.11014775,  0.4742426 ,  0.38643425,  0.00490125, -0.06425463,\n",
       "        -0.00413428, -0.49537163,  0.37132115],\n",
       "       [-0.56962026, -0.38986798,  0.22229894, -0.50668143, -0.38785832,\n",
       "         0.63662143, -0.09474463, -0.26938296, -0.05564192,  0.11597223,\n",
       "         0.53230711, -0.53378845, -0.47741825],\n",
       "       [-0.27790665,  0.08255513, -0.43664273,  0.20820498, -0.49521568,\n",
       "         0.01924288,  0.51596531, -0.3124332 ,  0.21810607,  0.43744896,\n",
       "        -0.30981011,  0.46024884, -0.26693391],\n",
       "       [-0.24758188, -0.01218   , -0.51136855,  0.02949703, -0.29909725,\n",
       "        -0.4678246 ,  0.57786856,  0.20392193, -0.33917365,  0.18141788,\n",
       "        -0.48964186, -0.1249061 ,  0.35024158],\n",
       "       [-0.43578107, -0.00802424, -0.17015157, -0.28151661,  0.26219505,\n",
       "        -0.07610164,  0.07454867, -0.26740195, -0.32514447, -0.07457672,\n",
       "         0.45471289, -0.10406631, -0.38611789]])"
      ]
     },
     "execution_count": 229,
     "metadata": {},
     "output_type": "execute_result"
    }
   ],
   "source": [
    "lb"
   ]
  },
  {
   "cell_type": "code",
   "execution_count": 230,
   "metadata": {},
   "outputs": [
    {
     "name": "stdout",
     "output_type": "stream",
     "text": [
      " nn w and w  4 4\n",
      "bias 13 and w 13 \n"
     ]
    }
   ],
   "source": [
    "print(\" nn w and w \",len(learner.intercepts_),len(learner.coefs_))\n",
    "print(\"bias {} and w {} \" .format(len(l1),len(lb)))"
   ]
  }
 ],
 "metadata": {
  "kernelspec": {
   "display_name": "Python 3",
   "language": "python",
   "name": "python3"
  },
  "language_info": {
   "codemirror_mode": {
    "name": "ipython",
    "version": 3
   },
   "file_extension": ".py",
   "mimetype": "text/x-python",
   "name": "python",
   "nbconvert_exporter": "python",
   "pygments_lexer": "ipython3",
   "version": "3.7.3"
  }
 },
 "nbformat": 4,
 "nbformat_minor": 2
}
