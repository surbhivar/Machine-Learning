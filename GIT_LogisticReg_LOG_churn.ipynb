{
 "cells": [
  {
   "cell_type": "markdown",
   "metadata": {},
   "source": [
    "# MACHINE LEARNING: USING LOGISTIC REGRESSION ALGORITHM"
   ]
  },
  {
   "cell_type": "code",
   "execution_count": 29,
   "metadata": {},
   "outputs": [],
   "source": [
    "import pandas as pd\n",
    "from matplotlib import pyplot as plt\n",
    "import numpy as np\n"
   ]
  },
  {
   "cell_type": "code",
   "execution_count": 30,
   "metadata": {},
   "outputs": [],
   "source": [
    "mydata=pd.read_csv(r\"C:\\Users\\Surbhi Varshney\\Desktop\\Data_2019\\ChurnData.csv\")"
   ]
  },
  {
   "cell_type": "code",
   "execution_count": 31,
   "metadata": {},
   "outputs": [
    {
     "data": {
      "text/plain": [
       "Index(['tenure', 'age', 'address', 'income', 'ed', 'employ', 'equip',\n",
       "       'callcard', 'wireless', 'longmon', 'tollmon', 'equipmon', 'cardmon',\n",
       "       'wiremon', 'longten', 'tollten', 'cardten', 'voice', 'pager',\n",
       "       'internet', 'callwait', 'confer', 'ebill', 'loglong', 'logtoll',\n",
       "       'lninc', 'custcat', 'churn'],\n",
       "      dtype='object')"
      ]
     },
     "execution_count": 31,
     "metadata": {},
     "output_type": "execute_result"
    }
   ],
   "source": [
    "mydata.keys()"
   ]
  },
  {
   "cell_type": "code",
   "execution_count": 32,
   "metadata": {},
   "outputs": [],
   "source": [
    "#mydata.dtypes"
   ]
  },
  {
   "cell_type": "code",
   "execution_count": 33,
   "metadata": {},
   "outputs": [],
   "source": [
    "#in sklearn data should be int form 32bit"
   ]
  },
  {
   "cell_type": "code",
   "execution_count": 34,
   "metadata": {},
   "outputs": [],
   "source": [
    "X_data=mydata[[\"tenure\",\"age\",\"address\",\"income\",\"ed\",\"employ\",\"equip\",\"callcard\",\"wireless\"]]"
   ]
  },
  {
   "cell_type": "code",
   "execution_count": 35,
   "metadata": {},
   "outputs": [
    {
     "data": {
      "text/html": [
       "<div>\n",
       "<style scoped>\n",
       "    .dataframe tbody tr th:only-of-type {\n",
       "        vertical-align: middle;\n",
       "    }\n",
       "\n",
       "    .dataframe tbody tr th {\n",
       "        vertical-align: top;\n",
       "    }\n",
       "\n",
       "    .dataframe thead th {\n",
       "        text-align: right;\n",
       "    }\n",
       "</style>\n",
       "<table border=\"1\" class=\"dataframe\">\n",
       "  <thead>\n",
       "    <tr style=\"text-align: right;\">\n",
       "      <th></th>\n",
       "      <th>tenure</th>\n",
       "      <th>age</th>\n",
       "      <th>address</th>\n",
       "      <th>income</th>\n",
       "      <th>ed</th>\n",
       "      <th>employ</th>\n",
       "      <th>equip</th>\n",
       "      <th>callcard</th>\n",
       "      <th>wireless</th>\n",
       "    </tr>\n",
       "  </thead>\n",
       "  <tbody>\n",
       "    <tr>\n",
       "      <th>0</th>\n",
       "      <td>11</td>\n",
       "      <td>33</td>\n",
       "      <td>7</td>\n",
       "      <td>136</td>\n",
       "      <td>5</td>\n",
       "      <td>5</td>\n",
       "      <td>0</td>\n",
       "      <td>1</td>\n",
       "      <td>1</td>\n",
       "    </tr>\n",
       "    <tr>\n",
       "      <th>1</th>\n",
       "      <td>33</td>\n",
       "      <td>33</td>\n",
       "      <td>12</td>\n",
       "      <td>33</td>\n",
       "      <td>2</td>\n",
       "      <td>0</td>\n",
       "      <td>0</td>\n",
       "      <td>0</td>\n",
       "      <td>0</td>\n",
       "    </tr>\n",
       "    <tr>\n",
       "      <th>2</th>\n",
       "      <td>23</td>\n",
       "      <td>30</td>\n",
       "      <td>9</td>\n",
       "      <td>30</td>\n",
       "      <td>1</td>\n",
       "      <td>2</td>\n",
       "      <td>0</td>\n",
       "      <td>0</td>\n",
       "      <td>0</td>\n",
       "    </tr>\n",
       "    <tr>\n",
       "      <th>3</th>\n",
       "      <td>38</td>\n",
       "      <td>35</td>\n",
       "      <td>5</td>\n",
       "      <td>76</td>\n",
       "      <td>2</td>\n",
       "      <td>10</td>\n",
       "      <td>1</td>\n",
       "      <td>1</td>\n",
       "      <td>1</td>\n",
       "    </tr>\n",
       "    <tr>\n",
       "      <th>4</th>\n",
       "      <td>7</td>\n",
       "      <td>35</td>\n",
       "      <td>14</td>\n",
       "      <td>80</td>\n",
       "      <td>2</td>\n",
       "      <td>15</td>\n",
       "      <td>0</td>\n",
       "      <td>1</td>\n",
       "      <td>0</td>\n",
       "    </tr>\n",
       "  </tbody>\n",
       "</table>\n",
       "</div>"
      ],
      "text/plain": [
       "   tenure  age  address  income  ed  employ  equip  callcard  wireless\n",
       "0      11   33        7     136   5       5      0         1         1\n",
       "1      33   33       12      33   2       0      0         0         0\n",
       "2      23   30        9      30   1       2      0         0         0\n",
       "3      38   35        5      76   2      10      1         1         1\n",
       "4       7   35       14      80   2      15      0         1         0"
      ]
     },
     "execution_count": 35,
     "metadata": {},
     "output_type": "execute_result"
    }
   ],
   "source": [
    "X_data.head()"
   ]
  },
  {
   "cell_type": "code",
   "execution_count": 36,
   "metadata": {},
   "outputs": [],
   "source": [
    "Y_data=mydata[\"churn\"]"
   ]
  },
  {
   "cell_type": "code",
   "execution_count": 37,
   "metadata": {},
   "outputs": [
    {
     "data": {
      "text/plain": [
       "0    1\n",
       "Name: churn, dtype: int64"
      ]
     },
     "execution_count": 37,
     "metadata": {},
     "output_type": "execute_result"
    }
   ],
   "source": [
    "Y_data.head(1)"
   ]
  },
  {
   "cell_type": "code",
   "execution_count": 38,
   "metadata": {},
   "outputs": [
    {
     "name": "stdout",
     "output_type": "stream",
     "text": [
      "type of X_data is <class 'pandas.core.frame.DataFrame'> and type of Y_data is <class 'pandas.core.series.Series'> \n"
     ]
    }
   ],
   "source": [
    "print(\"type of X_data is {} and type of Y_data is {} \".format(type(X_data),type(Y_data)))"
   ]
  },
  {
   "cell_type": "code",
   "execution_count": 39,
   "metadata": {},
   "outputs": [],
   "source": [
    "#converting pandas into numpy array"
   ]
  },
  {
   "cell_type": "code",
   "execution_count": 40,
   "metadata": {},
   "outputs": [],
   "source": [
    "XA=np.asanyarray(X_data)\n",
    "YA=np.asanyarray(Y_data)"
   ]
  },
  {
   "cell_type": "code",
   "execution_count": 41,
   "metadata": {},
   "outputs": [
    {
     "data": {
      "text/plain": [
       "array([[ 11,  33,   7, 136,   5,   5,   0,   1,   1],\n",
       "       [ 33,  33,  12,  33,   2,   0,   0,   0,   0],\n",
       "       [ 23,  30,   9,  30,   1,   2,   0,   0,   0]], dtype=int64)"
      ]
     },
     "execution_count": 41,
     "metadata": {},
     "output_type": "execute_result"
    }
   ],
   "source": [
    "XA[:3]"
   ]
  },
  {
   "cell_type": "code",
   "execution_count": 42,
   "metadata": {},
   "outputs": [],
   "source": [
    "#feature scaling down"
   ]
  },
  {
   "cell_type": "code",
   "execution_count": 43,
   "metadata": {},
   "outputs": [],
   "source": [
    "from sklearn import preprocessing"
   ]
  },
  {
   "cell_type": "code",
   "execution_count": 44,
   "metadata": {},
   "outputs": [
    {
     "name": "stderr",
     "output_type": "stream",
     "text": [
      "C:\\Users\\Surbhi Varshney\\Anaconda3\\lib\\site-packages\\sklearn\\utils\\validation.py:595: DataConversionWarning: Data with input dtype int64 was converted to float64 by StandardScaler.\n",
      "  warnings.warn(msg, DataConversionWarning)\n",
      "C:\\Users\\Surbhi Varshney\\Anaconda3\\lib\\site-packages\\sklearn\\utils\\validation.py:595: DataConversionWarning: Data with input dtype int64 was converted to float64 by StandardScaler.\n",
      "  warnings.warn(msg, DataConversionWarning)\n"
     ]
    }
   ],
   "source": [
    "XA=preprocessing.StandardScaler().fit(XA).transform(XA)"
   ]
  },
  {
   "cell_type": "code",
   "execution_count": 46,
   "metadata": {},
   "outputs": [],
   "source": [
    "#XA[:]\n",
    "XA_mean=XA.mean()\n",
    "XA_std=XA.std"
   ]
  },
  {
   "cell_type": "code",
   "execution_count": 47,
   "metadata": {},
   "outputs": [
    {
     "name": "stdout",
     "output_type": "stream",
     "text": [
      "mean of XA0.0 and std of XA <built-in method std of numpy.ndarray object at 0x000002580E434DA0> \n"
     ]
    }
   ],
   "source": [
    "print(\"mean of XA{} and std of XA {} \".format (abs(round(XA_mean)),XA_std))"
   ]
  },
  {
   "cell_type": "code",
   "execution_count": 48,
   "metadata": {},
   "outputs": [],
   "source": [
    "from sklearn.model_selection import train_test_split"
   ]
  },
  {
   "cell_type": "code",
   "execution_count": 69,
   "metadata": {},
   "outputs": [],
   "source": [
    "X_train,X_test,Y_train,Y_test=train_test_split(XA,YA,test_size=.30,random_state=101)"
   ]
  },
  {
   "cell_type": "code",
   "execution_count": 70,
   "metadata": {},
   "outputs": [],
   "source": [
    "from sklearn.linear_model import LogisticRegression"
   ]
  },
  {
   "cell_type": "code",
   "execution_count": 80,
   "metadata": {},
   "outputs": [],
   "source": [
    "trainer= LogisticRegression(solver='liblinear')"
   ]
  },
  {
   "cell_type": "code",
   "execution_count": 81,
   "metadata": {},
   "outputs": [],
   "source": [
    "learner=trainer.fit(X_train,Y_train)"
   ]
  },
  {
   "cell_type": "code",
   "execution_count": 73,
   "metadata": {},
   "outputs": [],
   "source": [
    "Ya=Y_test\n",
    "Yp=learner.predict(X_test)"
   ]
  },
  {
   "cell_type": "code",
   "execution_count": 85,
   "metadata": {},
   "outputs": [
    {
     "data": {
      "text/plain": [
       "array([[0.64241803, 0.35758197],\n",
       "       [0.8836297 , 0.1163703 ],\n",
       "       [0.98027474, 0.01972526],\n",
       "       [0.72195865, 0.27804135],\n",
       "       [0.92890095, 0.07109905],\n",
       "       [0.65687111, 0.34312889],\n",
       "       [0.23127199, 0.76872801],\n",
       "       [0.88404464, 0.11595536],\n",
       "       [0.9146668 , 0.0853332 ],\n",
       "       [0.83264624, 0.16735376],\n",
       "       [0.33574745, 0.66425255],\n",
       "       [0.38487192, 0.61512808],\n",
       "       [0.34084969, 0.65915031],\n",
       "       [0.38965751, 0.61034249],\n",
       "       [0.94624817, 0.05375183],\n",
       "       [0.37199755, 0.62800245],\n",
       "       [0.14535849, 0.85464151],\n",
       "       [0.3720745 , 0.6279255 ],\n",
       "       [0.165979  , 0.834021  ],\n",
       "       [0.65370663, 0.34629337],\n",
       "       [0.30160355, 0.69839645],\n",
       "       [0.92762805, 0.07237195],\n",
       "       [0.95214415, 0.04785585],\n",
       "       [0.72325012, 0.27674988],\n",
       "       [0.92150707, 0.07849293],\n",
       "       [0.94446739, 0.05553261],\n",
       "       [0.82236403, 0.17763597],\n",
       "       [0.62144083, 0.37855917],\n",
       "       [0.88048905, 0.11951095],\n",
       "       [0.62403012, 0.37596988],\n",
       "       [0.90208303, 0.09791697],\n",
       "       [0.92947909, 0.07052091],\n",
       "       [0.56724137, 0.43275863],\n",
       "       [0.51458148, 0.48541852],\n",
       "       [0.9359266 , 0.0640734 ],\n",
       "       [0.36728037, 0.63271963],\n",
       "       [0.95836546, 0.04163454],\n",
       "       [0.89333646, 0.10666354],\n",
       "       [0.87557572, 0.12442428],\n",
       "       [0.88078848, 0.11921152],\n",
       "       [0.45849209, 0.54150791],\n",
       "       [0.49102246, 0.50897754],\n",
       "       [0.72836048, 0.27163952],\n",
       "       [0.26512508, 0.73487492],\n",
       "       [0.94194186, 0.05805814],\n",
       "       [0.87096697, 0.12903303],\n",
       "       [0.97412949, 0.02587051],\n",
       "       [0.98681241, 0.01318759],\n",
       "       [0.83210501, 0.16789499],\n",
       "       [0.11064673, 0.88935327],\n",
       "       [0.65384562, 0.34615438],\n",
       "       [0.7681824 , 0.2318176 ],\n",
       "       [0.4253973 , 0.5746027 ],\n",
       "       [0.96578369, 0.03421631],\n",
       "       [0.9454869 , 0.0545131 ],\n",
       "       [0.92088647, 0.07911353],\n",
       "       [0.88592502, 0.11407498],\n",
       "       [0.97746726, 0.02253274],\n",
       "       [0.45881718, 0.54118282],\n",
       "       [0.93817655, 0.06182345]])"
      ]
     },
     "execution_count": 85,
     "metadata": {},
     "output_type": "execute_result"
    }
   ],
   "source": [
    "Ypprob=learner.predict_proba(X_test)\n",
    "Ypprob"
   ]
  },
  {
   "cell_type": "code",
   "execution_count": 89,
   "metadata": {},
   "outputs": [],
   "source": [
    "P_Y1X=Ypprob[:,0]\n",
    "P1_Y0x=Ypprob[:,1]"
   ]
  },
  {
   "cell_type": "code",
   "execution_count": 90,
   "metadata": {},
   "outputs": [],
   "source": [
    "table=pd.DataFrame({\"P(Y=1|X)\":P_Y1X,\"P(Y=0|X)\":P1_Y0x})"
   ]
  },
  {
   "cell_type": "code",
   "execution_count": 91,
   "metadata": {},
   "outputs": [
    {
     "data": {
      "text/html": [
       "<div>\n",
       "<style scoped>\n",
       "    .dataframe tbody tr th:only-of-type {\n",
       "        vertical-align: middle;\n",
       "    }\n",
       "\n",
       "    .dataframe tbody tr th {\n",
       "        vertical-align: top;\n",
       "    }\n",
       "\n",
       "    .dataframe thead th {\n",
       "        text-align: right;\n",
       "    }\n",
       "</style>\n",
       "<table border=\"1\" class=\"dataframe\">\n",
       "  <thead>\n",
       "    <tr style=\"text-align: right;\">\n",
       "      <th></th>\n",
       "      <th>P(Y=1|X)</th>\n",
       "      <th>P(Y=0|X)</th>\n",
       "    </tr>\n",
       "  </thead>\n",
       "  <tbody>\n",
       "    <tr>\n",
       "      <th>0</th>\n",
       "      <td>0.642418</td>\n",
       "      <td>0.357582</td>\n",
       "    </tr>\n",
       "    <tr>\n",
       "      <th>1</th>\n",
       "      <td>0.883630</td>\n",
       "      <td>0.116370</td>\n",
       "    </tr>\n",
       "  </tbody>\n",
       "</table>\n",
       "</div>"
      ],
      "text/plain": [
       "   P(Y=1|X)  P(Y=0|X)\n",
       "0  0.642418  0.357582\n",
       "1  0.883630  0.116370"
      ]
     },
     "execution_count": 91,
     "metadata": {},
     "output_type": "execute_result"
    }
   ],
   "source": [
    "table[:2]"
   ]
  },
  {
   "cell_type": "code",
   "execution_count": 92,
   "metadata": {},
   "outputs": [],
   "source": [
    "#Evaluation of Classification Algo"
   ]
  },
  {
   "cell_type": "code",
   "execution_count": 97,
   "metadata": {},
   "outputs": [],
   "source": [
    "from sklearn.metrics import accuracy_score,jaccard_similarity_score"
   ]
  },
  {
   "cell_type": "code",
   "execution_count": 98,
   "metadata": {},
   "outputs": [],
   "source": [
    "jss=jaccard_similarity_score(Ya,Yp)\n",
    "accs=accuracy_score(Ya,Yp)"
   ]
  },
  {
   "cell_type": "code",
   "execution_count": 99,
   "metadata": {},
   "outputs": [
    {
     "name": "stdout",
     "output_type": "stream",
     "text": [
      "jss is 0.7666666666666667 and accs is 0.7666666666666667 \n"
     ]
    }
   ],
   "source": [
    "print(\"jss is {0} and accs is {1} \".format(jss,accs))"
   ]
  },
  {
   "cell_type": "code",
   "execution_count": 104,
   "metadata": {},
   "outputs": [],
   "source": [
    "from sklearn.metrics import confusion_matrix,classification_report"
   ]
  },
  {
   "cell_type": "code",
   "execution_count": 105,
   "metadata": {},
   "outputs": [],
   "source": [
    "my_cm=confusion_matrix(Ya,Yp)"
   ]
  },
  {
   "cell_type": "code",
   "execution_count": 106,
   "metadata": {},
   "outputs": [
    {
     "data": {
      "text/plain": [
       "array([[37,  8],\n",
       "       [ 6,  9]], dtype=int64)"
      ]
     },
     "execution_count": 106,
     "metadata": {},
     "output_type": "execute_result"
    }
   ],
   "source": [
    "my_cm"
   ]
  },
  {
   "cell_type": "code",
   "execution_count": 120,
   "metadata": {},
   "outputs": [
    {
     "data": {
      "text/html": [
       "<div>\n",
       "<style scoped>\n",
       "    .dataframe tbody tr th:only-of-type {\n",
       "        vertical-align: middle;\n",
       "    }\n",
       "\n",
       "    .dataframe tbody tr th {\n",
       "        vertical-align: top;\n",
       "    }\n",
       "\n",
       "    .dataframe thead th {\n",
       "        text-align: right;\n",
       "    }\n",
       "</style>\n",
       "<table border=\"1\" class=\"dataframe\">\n",
       "  <thead>\n",
       "    <tr style=\"text-align: right;\">\n",
       "      <th></th>\n",
       "      <th>Ya</th>\n",
       "      <th>Yp</th>\n",
       "    </tr>\n",
       "  </thead>\n",
       "  <tbody>\n",
       "    <tr>\n",
       "      <th>0</th>\n",
       "      <td>0</td>\n",
       "      <td>0</td>\n",
       "    </tr>\n",
       "    <tr>\n",
       "      <th>1</th>\n",
       "      <td>0</td>\n",
       "      <td>0</td>\n",
       "    </tr>\n",
       "  </tbody>\n",
       "</table>\n",
       "</div>"
      ],
      "text/plain": [
       "   Ya  Yp\n",
       "0   0   0\n",
       "1   0   0"
      ]
     },
     "execution_count": 120,
     "metadata": {},
     "output_type": "execute_result"
    }
   ],
   "source": [
    "table1=pd.DataFrame({\"Ya\":Ya,\"Yp\":Yp})\n",
    "table[:2]"
   ]
  },
  {
   "cell_type": "code",
   "execution_count": null,
   "metadata": {},
   "outputs": [],
   "source": [
    "#import seaborn as sb"
   ]
  },
  {
   "cell_type": "code",
   "execution_count": 122,
   "metadata": {},
   "outputs": [
    {
     "data": {
      "image/png": "[encoded data removed]",
      "text/plain": [
       "<Figure size 432x288 with 2 Axes>"
      ]
     },
     "metadata": {
      "needs_background": "light"
     },
     "output_type": "display_data"
    }
   ],
   "source": [
    "CONMAT=pd.crosstab(table1.Ya,table1.Yp)\n",
    "sb.heatmap(CONMAT)\n",
    "plt.show()"
   ]
  },
  {
   "cell_type": "code",
   "execution_count": 123,
   "metadata": {},
   "outputs": [
    {
     "data": {
      "image/png": "[encoded data removed]",
      "text/plain": [
       "<Figure size 432x288 with 2 Axes>"
      ]
     },
     "metadata": {
      "needs_background": "light"
     },
     "output_type": "display_data"
    }
   ],
   "source": [
    "# this is correct\n",
    "CONMAT=pd.crosstab(table1.Ya,table1.Yp,rownames=[\"Yactual\"],colnames=[\"Predicted\"],margins=True)\n",
    "sb.heatmap(CONMAT,annot=True)\n",
    "plt.show()"
   ]
  },
  {
   "cell_type": "code",
   "execution_count": 117,
   "metadata": {},
   "outputs": [],
   "source": [
    "c_class=my_cm[0,0]+my_cm[1,1]\n",
    "ts=my_cm.sum()"
   ]
  },
  {
   "cell_type": "code",
   "execution_count": 118,
   "metadata": {},
   "outputs": [
    {
     "data": {
      "text/plain": [
       "0.7666666666666667"
      ]
     },
     "execution_count": 118,
     "metadata": {},
     "output_type": "execute_result"
    }
   ],
   "source": [
    "c_class/ts"
   ]
  },
  {
   "cell_type": "code",
   "execution_count": 119,
   "metadata": {},
   "outputs": [
    {
     "data": {
      "image/png": "[encoded data removed]",
      "text/plain": [
       "<Figure size 288x288 with 2 Axes>"
      ]
     },
     "metadata": {
      "needs_background": "light"
     },
     "output_type": "display_data"
    }
   ],
   "source": [
    "plt.matshow(my_cm)\n",
    "plt.title(\"This is confusion matrix\")\n",
    "plt.colorbar()\n",
    "plt.xlabel(\"predicted\")\n",
    "plt.ylabel(\"real\")\n",
    "plt.show()\n",
    "\n"
   ]
  },
  {
   "cell_type": "code",
   "execution_count": 124,
   "metadata": {},
   "outputs": [],
   "source": [
    "myclassreport=classification_report(Ya,Yp)"
   ]
  },
  {
   "cell_type": "code",
   "execution_count": 125,
   "metadata": {},
   "outputs": [
    {
     "name": "stdout",
     "output_type": "stream",
     "text": [
      "              precision    recall  f1-score   support\n",
      "\n",
      "           0       0.86      0.82      0.84        45\n",
      "           1       0.53      0.60      0.56        15\n",
      "\n",
      "   micro avg       0.77      0.77      0.77        60\n",
      "   macro avg       0.69      0.71      0.70        60\n",
      "weighted avg       0.78      0.77      0.77        60\n",
      "\n"
     ]
    }
   ],
   "source": [
    "print(myclassreport)"
   ]
  },
  {
   "cell_type": "code",
   "execution_count": 110,
   "metadata": {},
   "outputs": [],
   "source": [
    "import seaborn as sb"
   ]
  },
  {
   "cell_type": "code",
   "execution_count": 126,
   "metadata": {},
   "outputs": [],
   "source": [
    "from sklearn.metrics import roc_curve"
   ]
  },
  {
   "cell_type": "code",
   "execution_count": 132,
   "metadata": {},
   "outputs": [],
   "source": [
    "Ypprr=Ypprob[:,1]"
   ]
  },
  {
   "cell_type": "code",
   "execution_count": 135,
   "metadata": {},
   "outputs": [],
   "source": [
    "fpr,tpr,th=roc_curve(Ya,Ypprr)"
   ]
  },
  {
   "cell_type": "code",
   "execution_count": 136,
   "metadata": {},
   "outputs": [
    {
     "data": {
      "text/plain": [
       "array([0.        , 0.06666667, 0.13333333, 0.13333333, 0.33333333,\n",
       "       0.33333333, 0.4       , 0.4       , 0.46666667, 0.46666667,\n",
       "       0.53333333, 0.53333333, 0.6       , 0.6       , 0.73333333,\n",
       "       0.73333333, 0.8       , 0.8       , 0.86666667, 0.86666667,\n",
       "       0.93333333, 0.93333333, 1.        , 1.        ])"
      ]
     },
     "execution_count": 136,
     "metadata": {},
     "output_type": "execute_result"
    }
   ],
   "source": [
    "tpr"
   ]
  },
  {
   "cell_type": "code",
   "execution_count": 137,
   "metadata": {},
   "outputs": [
    {
     "data": {
      "text/plain": [
       "array([0.        , 0.        , 0.        , 0.02222222, 0.02222222,\n",
       "       0.04444444, 0.04444444, 0.06666667, 0.06666667, 0.11111111,\n",
       "       0.11111111, 0.15555556, 0.15555556, 0.17777778, 0.17777778,\n",
       "       0.26666667, 0.26666667, 0.35555556, 0.35555556, 0.55555556,\n",
       "       0.55555556, 0.66666667, 0.66666667, 1.        ])"
      ]
     },
     "execution_count": 137,
     "metadata": {},
     "output_type": "execute_result"
    }
   ],
   "source": [
    "fpr"
   ]
  },
  {
   "cell_type": "code",
   "execution_count": 138,
   "metadata": {},
   "outputs": [
    {
     "data": {
      "image/png": "[encoded data removed]",
      "text/plain": [
       "<Figure size 432x288 with 1 Axes>"
      ]
     },
     "metadata": {
      "needs_background": "light"
     },
     "output_type": "display_data"
    }
   ],
   "source": [
    "plt.plot(fpr,tpr,label=\"ROC Curve\")\n",
    "plt.show()"
   ]
  },
  {
   "cell_type": "code",
   "execution_count": null,
   "metadata": {},
   "outputs": [],
   "source": []
  }
 ],
 "metadata": {
  "kernelspec": {
   "display_name": "Python 3",
   "language": "python",
   "name": "python3"
  },
  "language_info": {
   "codemirror_mode": {
    "name": "ipython",
    "version": 3
   },
   "file_extension": ".py",
   "mimetype": "text/x-python",
   "name": "python",
   "nbconvert_exporter": "python",
   "pygments_lexer": "ipython3",
   "version": "3.7.3"
  }
 },
 "nbformat": 4,
 "nbformat_minor": 2
}
